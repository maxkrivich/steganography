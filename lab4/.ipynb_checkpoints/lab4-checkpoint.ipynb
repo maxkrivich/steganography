{
 "cells": [
  {
   "cell_type": "markdown",
   "metadata": {},
   "source": [
    "# <center>Лабораторная работа №4</center>\n",
    "###### <center> Сокрытие данных в частотной области неподвижных изображений на основе кодирования разности абсолютных значений коэффициентов дискретно-косинусного преобразования</center>\n",
    "<p>\n",
    "<center>\n",
    "_по курсу: \"Стеганография\"_\n",
    "</center>\n",
    "<center>\n",
    "_Кривич Максим, КБ-41_\n",
    "</center>\n",
    "<center>\n",
    "_Харьков - 2017г._\n",
    "</center>"
   ]
  }
 ],
 "metadata": {
  "kernelspec": {
   "display_name": "Python 3",
   "language": "python",
   "name": "python3"
  },
  "language_info": {
   "codemirror_mode": {
    "name": "ipython",
    "version": 3
   },
   "file_extension": ".py",
   "mimetype": "text/x-python",
   "name": "python",
   "nbconvert_exporter": "python",
   "pygments_lexer": "ipython3",
   "version": "3.5.2"
  }
 },
 "nbformat": 4,
 "nbformat_minor": 2
}
