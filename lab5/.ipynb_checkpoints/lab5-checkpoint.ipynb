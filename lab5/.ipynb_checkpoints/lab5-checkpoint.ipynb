{
 "cells": [
  {
   "cell_type": "markdown",
   "metadata": {},
   "source": [
    "# <center>Лабораторная работа №5</center>\n",
    "###### <center> \"Сокрытие данных в аудио-контейнерах\"</center>\n",
    "<p>\n",
    "<center>\n",
    "_по курсу: \"Стеганография\"_\n",
    "</center>\n",
    "<center>\n",
    "_студенты группы КБ-41_\n",
    "</center>\n",
    "<center>\n",
    "_Кривич Максим, Науменко Данил_\n",
    "</center>\n",
    "<center>\n",
    "_Харьков - 2017г._\n",
    "</center>"
   ]
  },
  {
   "cell_type": "markdown",
   "metadata": {},
   "source": [
    "__Цель работы:__ закрепить теоретические знания по теме «Стеганографические методы сокрытия данных в аудиофайлах», приобрести практические умения и навыки по разработке стеганографических систем, исследовать свойства стеганографических методов, основанных на низкоуровневых свойствах слуховой системы человека (ЗСЛ)."
   ]
  },
  {
   "cell_type": "code",
   "execution_count": null,
   "metadata": {
    "collapsed": true
   },
   "outputs": [],
   "source": [
    "%matplotlib inline\n",
    "import wave\n",
    "import math\n",
    "import numpy as np\n",
    "import matplotlib.pyplot as plt"
   ]
  },
  {
   "cell_type": "markdown",
   "metadata": {
    "collapsed": true
   },
   "source": [
    "### Задание №1 - Реализация алгоритмов встраивания и извлечения сообщений методом замены наименее значимых бит данных"
   ]
  },
  {
   "cell_type": "markdown",
   "metadata": {},
   "source": [
    "### Задание №2 - Экспериментальные исследования чувствительности слуховой системы человека к изменениям громкости аудио-контейнеров"
   ]
  },
  {
   "cell_type": "markdown",
   "metadata": {},
   "source": [
    "### Задание №3 - Реализация алгоритмов встраивания и извлечениясообщений методом кодирования начальных фаз"
   ]
  },
  {
   "cell_type": "markdown",
   "metadata": {},
   "source": [
    "### Задание №4 - Реализация алгоритмов встраивания и извлечения сообщений методом кодирования эхо-сигналов"
   ]
  }
 ],
 "metadata": {
  "kernelspec": {
   "display_name": "Python 3",
   "language": "python",
   "name": "python3"
  },
  "language_info": {
   "codemirror_mode": {
    "name": "ipython",
    "version": 3
   },
   "file_extension": ".py",
   "mimetype": "text/x-python",
   "name": "python",
   "nbconvert_exporter": "python",
   "pygments_lexer": "ipython3",
   "version": "3.5.2"
  }
 },
 "nbformat": 4,
 "nbformat_minor": 2
}
